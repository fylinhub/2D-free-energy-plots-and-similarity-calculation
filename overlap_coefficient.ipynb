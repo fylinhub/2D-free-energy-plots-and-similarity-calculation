{
 "cells": [
  {
   "cell_type": "code",
   "execution_count": 1,
   "metadata": {},
   "outputs": [],
   "source": [
    "#!/usr/bin/python\n",
    "\n",
    "import sys, string\n",
    "import numpy as np\n",
    "from math import sqrt, pi\n"
   ]
  },
  {
   "cell_type": "code",
   "execution_count": 2,
   "metadata": {},
   "outputs": [],
   "source": [
    "def hist(a):\n",
    "        start=-180.0-7.5\n",
    "        binnumber=24\n",
    "        binsize=360/binnumber\n",
    "        bincount=np.zeros(binnumber)\n",
    "        for n1 in a:\n",
    "            nindex=int((n1-start)/binsize)\n",
    "            if nindex >= binnumber:\n",
    "                nindex=0\n",
    "            bincount[nindex]+=1\n",
    "        return bincount\n",
    "\n",
    "def hist2(a):\n",
    "        start=-180.0-7.5\n",
    "        binnumber=24\n",
    "        binsize=360/binnumber\n",
    "        bincount=np.zeros(binnumber)\n",
    "        for n1 in a:\n",
    "            n1=np.abs(n1) # for asp, phe, tyr's chi2\n",
    "            nindex=int((n1-start)/binsize)\n",
    "            if nindex >= binnumber:\n",
    "                nindex=0\n",
    "            bincount[nindex]+=1\n",
    "        return bincount\n",
    "\n",
    "def hist2d(a,b):\n",
    "# to do 2-dimensional binning, still returning 1-d probability distribution\n",
    "        start=-180.0-7.5\n",
    "        binnumber=24\n",
    "        binsize=360/binnumber\n",
    "        binstart=[]\n",
    "        binstop=[]\n",
    "        for i in range(binnumber):\n",
    "            binstart.append(start+binsize*i)\n",
    "            binstop.append(start++binsize+binsize*i)\n",
    "        bincount=np.zeros(binnumber*binnumber)\n",
    "        nlen=len(a)\n",
    "        for n in range(nlen):\n",
    "            index1=int((a[n]-start)/binsize)\n",
    "            if index1 >= binnumber:\n",
    "                index1=0\n",
    "            index2=int((b[n]-start)/binsize)\n",
    "            if index2 >= binnumber:\n",
    "                index2=0\n",
    "            bincount[index1*binnumber+index2]+=1\n",
    "        #bincount=bincount/len(a)\n",
    "        return bincount        \n",
    "\n",
    "def hist2d2(a,b):\n",
    "#   hist2d for asp and tyr\n",
    "        start=-180.0-7.5\n",
    "        binnumber=24\n",
    "        binsize=360/binnumber\n",
    "        binstart=[]\n",
    "        binstop=[]\n",
    "        for i in range(binnumber):\n",
    "            binstart.append(start+binsize*i)\n",
    "            binstop.append(start++binsize+binsize*i)\n",
    "        bincount=np.zeros(binnumber*binnumber)\n",
    "        nlen=len(a)\n",
    "        for n in range(nlen):\n",
    "            index1=int((a[n]-start)/binsize)\n",
    "            if index1 >= binnumber:\n",
    "                index1=0\n",
    "            index2=int((np.abs(b[n])-start)/binsize)\n",
    "            if index2 >= binnumber:\n",
    "                index2=0\n",
    "            bincount[index1*binnumber+index2]+=1\n",
    "        return bincount\n",
    "\n",
    "def oc(x,y):\n",
    "        c1=0.0\n",
    "        c2=0.0\n",
    "        c3=0.0\n",
    "        for i in range(len(x)):\n",
    "            c1+=x[i]*y[i]\n",
    "            c2+=x[i]*x[i]\n",
    "            c3+=y[i]*y[i]\n",
    "        c=c1/np.sqrt(c2*c3)\n",
    "        return round(c,2)\n",
    "\n"
   ]
  },
  {
   "cell_type": "code",
   "execution_count": 3,
   "metadata": {},
   "outputs": [],
   "source": [
    "data1=\"met_chi1chi2.csv\"\n",
    "data2=\"chirest10.c7eq.met.dat\""
   ]
  },
  {
   "cell_type": "code",
   "execution_count": 4,
   "metadata": {},
   "outputs": [
    {
     "name": "stdout",
     "output_type": "stream",
     "text": [
      "chi1: 0.91\n",
      "chi2: 0.96\n",
      "2D OC: 0.84\n"
     ]
    }
   ],
   "source": [
    "if __name__ == \"__main__\":\n",
    "    compchi2=1\n",
    "    mmfile=np.loadtxt(data1).T\n",
    "    xrayfile=np.loadtxt(data2).T\n",
    "    if compchi2:\n",
    "        chi1mm=mmfile[0]\n",
    "        chi2mm=mmfile[1]\n",
    "        chi1pdb=xrayfile[0]\n",
    "        chi2pdb=xrayfile[1]\n",
    "        print ('chi1:',oc(hist(chi1mm),hist(chi1pdb)))\n",
    "        print ('chi2:',oc(hist(chi2mm),hist(chi2pdb)))\n",
    "        print ('2D OC:',oc(hist2d(chi1mm,chi2mm),hist2d(chi1pdb,chi2pdb)))\n",
    "    else:\n",
    "        #chi1mm=mmfile # for Val\n",
    "        chi1mm=mmfile[0]\n",
    "        chi1pdb=xrayfile\n",
    "        print ('chi1:',oc(hist(chi1mm),hist(chi1pdb)))"
   ]
  },
  {
   "cell_type": "code",
   "execution_count": null,
   "metadata": {},
   "outputs": [],
   "source": []
  },
  {
   "cell_type": "code",
   "execution_count": null,
   "metadata": {},
   "outputs": [],
   "source": []
  }
 ],
 "metadata": {
  "celltoolbar": "Raw Cell Format",
  "kernelspec": {
   "display_name": "Python 3",
   "language": "python",
   "name": "python3"
  },
  "language_info": {
   "codemirror_mode": {
    "name": "ipython",
    "version": 3
   },
   "file_extension": ".py",
   "mimetype": "text/x-python",
   "name": "python",
   "nbconvert_exporter": "python",
   "pygments_lexer": "ipython3",
   "version": "3.6.5"
  }
 },
 "nbformat": 4,
 "nbformat_minor": 2
}
